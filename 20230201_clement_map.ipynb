{
 "cells": [
  {
   "cell_type": "code",
   "execution_count": 1,
   "id": "55804c92",
   "metadata": {},
   "outputs": [],
   "source": [
    "import glob\n",
    "from datetime import datetime\n",
    "\n",
    "import numpy as np\n",
    "import matplotlib.pyplot as plt\n",
    "from netCDF4 import Dataset\n",
    "import cartopy.crs as ccrs\n",
    "import cartopy.feature as cfeature\n"
   ]
  },
  {
   "cell_type": "code",
   "execution_count": 2,
   "id": "ef84d56a",
   "metadata": {},
   "outputs": [
    {
     "name": "stdout",
     "output_type": "stream",
     "text": [
      "212 /Data/sat/downloads/sentinel1/ASIPv2/20180315T184223_S1B_AMSR2_Icechart-Greenland-CentralEast.nc /Data/sat/downloads/sentinel1/ASIPv2/20190525T203647_S1A_AMSR2_Icechart-Greenland-CapeFarewell.nc\n"
     ]
    }
   ],
   "source": [
    "idir = '/Data/sat/downloads/sentinel1/ASIPv2/'\n",
    "ifiles = sorted(glob.glob(f'{idir}/*.nc'))\n",
    "print(len(ifiles), ifiles[0], ifiles[-1])"
   ]
  },
  {
   "cell_type": "code",
   "execution_count": 7,
   "id": "826b5728",
   "metadata": {},
   "outputs": [],
   "source": [
    "lon_vecs = []\n",
    "lat_vecs = []\n",
    "for ifile in ifiles:\n",
    "    with Dataset(ifile) as ds:\n",
    "        lon = ds['lon'][:]\n",
    "        lat = ds['lat'][:]\n",
    "    lon_vecs.append(np.hstack([lon[0, :], lon[:, -1], lon[-1, ::-1], lon[::-1, 0]]))\n",
    "    lat_vecs.append(np.hstack([lat[0, :], lat[:, -1], lat[-1, ::-1], lat[::-1, 0]]))\n"
   ]
  },
  {
   "cell_type": "code",
   "execution_count": 10,
   "id": "2e3a6dd9",
   "metadata": {},
   "outputs": [],
   "source": [
    "fig = plt.figure(figsize=[10, 10])\n",
    "ax1 = fig.add_subplot(1, 1, 1, projection=ccrs.NorthPolarStereo(central_longitude=-45))\n",
    "\n",
    "for lon_vec, lat_vec in zip(lon_vecs, lat_vecs):\n",
    "    ax1.plot(lon_vec, lat_vec, '-', transform=ccrs.PlateCarree())\n",
    "\n",
    "ax1.add_feature(cfeature.LAND)\n",
    "ax1.add_feature(cfeature.COASTLINE)\n",
    "\n",
    "plt.savefig('greenland_asipv2.png', bbox_inches='tight', pad_inches=0.1, dpi=150)\n",
    "plt.close()\n"
   ]
  },
  {
   "cell_type": "code",
   "execution_count": 5,
   "id": "2702a1f8",
   "metadata": {},
   "outputs": [
    {
     "data": {
      "text/plain": [
       "(-968102.8127435563, 1436830.0171821257)"
      ]
     },
     "execution_count": 5,
     "metadata": {},
     "output_type": "execute_result"
    }
   ],
   "source": [
    "ax1.get_xlim()"
   ]
  },
  {
   "cell_type": "code",
   "execution_count": 6,
   "id": "a92e9524",
   "metadata": {},
   "outputs": [
    {
     "data": {
      "text/plain": [
       "(-3223904.241917269, -1284451.0292788818)"
      ]
     },
     "execution_count": 6,
     "metadata": {},
     "output_type": "execute_result"
    }
   ],
   "source": [
    "ax1.get_ylim()"
   ]
  },
  {
   "cell_type": "code",
   "execution_count": null,
   "id": "15fff9fa",
   "metadata": {},
   "outputs": [],
   "source": []
  }
 ],
 "metadata": {
  "kernelspec": {
   "display_name": "Python 3 (ipykernel)",
   "language": "python",
   "name": "python3"
  },
  "language_info": {
   "codemirror_mode": {
    "name": "ipython",
    "version": 3
   },
   "file_extension": ".py",
   "mimetype": "text/x-python",
   "name": "python",
   "nbconvert_exporter": "python",
   "pygments_lexer": "ipython3",
   "version": "3.10.2"
  }
 },
 "nbformat": 4,
 "nbformat_minor": 5
}
