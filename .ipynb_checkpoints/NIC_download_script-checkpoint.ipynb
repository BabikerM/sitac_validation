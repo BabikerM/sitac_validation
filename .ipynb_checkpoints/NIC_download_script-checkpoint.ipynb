{
 "cells": [
  {
   "cell_type": "code",
   "execution_count": 2,
   "id": "a872a082",
   "metadata": {},
   "outputs": [],
   "source": [
    "import urllib.request\n",
    "import zipfile\n",
    "import os\n",
    "import argparse"
   ]
  },
  {
   "cell_type": "code",
   "execution_count": 3,
   "id": "de9b590f",
   "metadata": {},
   "outputs": [],
   "source": [
    "def download_usnic_data(year, month, day, path):  \n",
    "    url = 'https://usicecenter.gov/File/DownloadArchive?prd=26' + month + day + year\n",
    "\n",
    "    # Download file\n",
    "    try :\n",
    "        urllib.request.urlretrieve(url, path + 'arctic_zip')\n",
    "        print('File {}-{}-{} downloaded'.format(year, month, day))\n",
    "    except :\n",
    "        print('Error 404')\n",
    "        print('No data available at this date')\n",
    "        return False\n",
    "    \n",
    "    # Create a folder\n",
    "    directory = 'Arctic_' + year + month + day\n",
    "    path_file = os.path.join(path, directory)\n",
    "    os.mkdir(path_file)\n",
    "    print(\"Directory '% s' created\" % directory)    \n",
    "    \n",
    "    # Unzip in this folder\n",
    "    with zipfile.ZipFile(path + 'arctic_zip', 'r') as zip_ref:\n",
    "        zip_ref.extractall(path + directory)\n",
    "    print('File unzip')\n",
    "    \n",
    "    # Remove zip file\n",
    "    os.remove(path + 'arctic_zip')\n",
    "    return True\n"
   ]
  },
  {
   "cell_type": "code",
   "execution_count": 4,
   "id": "e0bb01b8",
   "metadata": {},
   "outputs": [],
   "source": [
    "#path = '/home/malela/dl_test/'\n",
    "#download_usnic_data('2023', '01', '13', path)"
   ]
  },
  {
   "cell_type": "code",
   "execution_count": 11,
   "id": "6333d4bf",
   "metadata": {
    "collapsed": true
   },
   "outputs": [
    {
     "name": "stderr",
     "output_type": "stream",
     "text": [
      "usage: ipykernel_launcher.py [-h] date path\n",
      "ipykernel_launcher.py: error: the following arguments are required: path\n"
     ]
    },
    {
     "ename": "SystemExit",
     "evalue": "2",
     "output_type": "error",
     "traceback": [
      "An exception has occurred, use %tb to see the full traceback.\n",
      "\u001b[0;31mSystemExit\u001b[0m\u001b[0;31m:\u001b[0m 2\n"
     ]
    }
   ],
   "source": [
    "parser = argparse.ArgumentParser()\n",
    "parser.add_argument(\"date\", help=\"date of the file yyyy-mm-dd\")\n",
    "parser.add_argument(\"path\", help=\"path to store data /path/\")\n",
    "args = parser.parse_args()\n",
    "file_date = args.date\n",
    "file_date = file_date.split('-')\n",
    "file_path = args.path\n",
    "download_usnic_data(file_date[0], file_date[1], file_date[2], file_path)"
   ]
  },
  {
   "cell_type": "code",
   "execution_count": null,
   "id": "8f8296f6",
   "metadata": {},
   "outputs": [],
   "source": []
  }
 ],
 "metadata": {
  "kernelspec": {
   "display_name": "Python 3 (ipykernel)",
   "language": "python",
   "name": "python3"
  },
  "language_info": {
   "codemirror_mode": {
    "name": "ipython",
    "version": 3
   },
   "file_extension": ".py",
   "mimetype": "text/x-python",
   "name": "python",
   "nbconvert_exporter": "python",
   "pygments_lexer": "ipython3",
   "version": "3.9.16"
  }
 },
 "nbformat": 4,
 "nbformat_minor": 5
}
