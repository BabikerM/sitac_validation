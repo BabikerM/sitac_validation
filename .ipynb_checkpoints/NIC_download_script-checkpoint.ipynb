{
 "cells": [
  {
   "cell_type": "code",
   "execution_count": 1,
   "id": "a872a082",
   "metadata": {},
   "outputs": [],
   "source": [
    "import urllib.request\n",
    "import zipfile\n",
    "import os"
   ]
  },
  {
   "cell_type": "code",
   "execution_count": 2,
   "id": "de9b590f",
   "metadata": {},
   "outputs": [],
   "source": [
    "def download_usnic_data(year, month, day, path):  \n",
    "    url = 'https://usicecenter.gov/File/DownloadArchive?prd=26' + month + day + year\n",
    "\n",
    "    # Download file\n",
    "    try :\n",
    "        urllib.request.urlretrieve(url, path + 'arctic_zip')\n",
    "        print('File {}-{}-{} downloaded'.format(year, month, day))\n",
    "    except :\n",
    "        print('Error 404')\n",
    "        print('No data available at this date')\n",
    "        return False\n",
    "    \n",
    "    # Create a folder\n",
    "    directory = 'Arctic_' + year + month + day\n",
    "    path_file = os.path.join(path, directory)\n",
    "    os.mkdir(path_file)\n",
    "    print(\"Directory '% s' created\" % directory)    \n",
    "    \n",
    "    # Unzip in this folder\n",
    "    with zipfile.ZipFile(path + 'arctic_zip', 'r') as zip_ref:\n",
    "        zip_ref.extractall(path + directory)\n",
    "    print('File unzip')\n",
    "    \n",
    "    # Remove zip file\n",
    "    os.remove(path + 'arctic_zip')\n",
    "    return True\n"
   ]
  },
  {
   "cell_type": "code",
   "execution_count": 26,
   "id": "e0bb01b8",
   "metadata": {},
   "outputs": [
    {
     "name": "stdout",
     "output_type": "stream",
     "text": [
      "File 2023-01-13\n",
      "Directory 'Arctic_20230113' created\n",
      "File unzip\n"
     ]
    }
   ],
   "source": [
    "path = '/home/malela/dl_test/'\n",
    "\n",
    "download_usnic_data('2023', '01', '13', path)"
   ]
  },
  {
   "cell_type": "code",
   "execution_count": null,
   "id": "6333d4bf",
   "metadata": {},
   "outputs": [],
   "source": []
  }
 ],
 "metadata": {
  "kernelspec": {
   "display_name": "Python 3 (ipykernel)",
   "language": "python",
   "name": "python3"
  },
  "language_info": {
   "codemirror_mode": {
    "name": "ipython",
    "version": 3
   },
   "file_extension": ".py",
   "mimetype": "text/x-python",
   "name": "python",
   "nbconvert_exporter": "python",
   "pygments_lexer": "ipython3",
   "version": "3.9.16"
  }
 },
 "nbformat": 4,
 "nbformat_minor": 5
}
