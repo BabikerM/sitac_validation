{
 "cells": [
  {
   "cell_type": "code",
   "execution_count": 1,
   "id": "87f757b9",
   "metadata": {},
   "outputs": [],
   "source": [
    "# How to install gdal\n",
    "# The best is to install gdal and cartopy using conda, and then other packages using pip\n",
    "# conda create -y -n rasterize gdal cartopy pip\n",
    "# conda activate rasterize\n",
    "# pip install jupyter netcdf4 # and other libs\n",
    "\n",
    "\n",
    "import numpy as np\n",
    "from osgeo import gdal, osr, ogr\n",
    "import matplotlib.pyplot as plt"
   ]
  },
  {
   "cell_type": "code",
   "execution_count": 2,
   "id": "b67c18d7",
   "metadata": {},
   "outputs": [],
   "source": [
    "def get_gdal_dataset(x_ul, nx, dx, y_ul, ny, dy, srs_proj4, dtype=gdal.GDT_Float32):\n",
    "    \"\"\"\n",
    "    Get empty gdal dataset with a given extent and projection\n",
    "\n",
    "    Parameters:\n",
    "    -----------\n",
    "    x_ul : float\n",
    "        x coordinates of upper-left corner of upper-left pixel\n",
    "        ([0,0] pixel)\n",
    "    nx   : int\n",
    "        number of pixels in x-direction (number of columns)\n",
    "    dx   : float\n",
    "        step size in x direction (as column index increases)\n",
    "        (can be negative)\n",
    "    y_ul : float\n",
    "        y coordinates of upper-left corner of upper-left pixel\n",
    "        ([0,0] pixel)\n",
    "    ny   : int\n",
    "        number of pixels in y-direction (number of rows)\n",
    "    dy   : float\n",
    "        step size in y direction (as row index increases)\n",
    "        (can be negative)\n",
    "\n",
    "    Returns:\n",
    "    --------\n",
    "    ds : osgeo.gdal.Dataset\n",
    "    \"\"\"\n",
    "\n",
    "    # create dataset\n",
    "    dst_ds = gdal.GetDriverByName('MEM').Create('tmp', nx, ny, 1, dtype)\n",
    "\n",
    "    # set grid limits\n",
    "    # - for usage of osgeo.gdal.Dataset.SetGeoTransform, see:\n",
    "    #   https://gdal.org/tutorials/geotransforms_tut.html\n",
    "    dst_ds.SetGeoTransform((x_ul, dx, 0, y_ul, 0, dy))\n",
    "\n",
    "    # set projection\n",
    "    srs = osr.SpatialReference()\n",
    "    srs.ImportFromProj4(str(srs_proj4))\n",
    "    srs_wkt = srs.ExportToWkt()\n",
    "    dst_ds.SetProjection(srs_wkt)\n",
    "\n",
    "    # set no_data_value for the band\n",
    "    band = dst_ds.GetRasterBand(1)\n",
    "    NoData_value = -999999\n",
    "    band.SetNoDataValue(NoData_value)\n",
    "    band.FlushCache()\n",
    "\n",
    "    return dst_ds\n",
    "\n",
    "def rasterize_icehart(shapefile, ds):\n",
    "    field_names = ['CT', 'CA', 'CB', 'CC', 'SA', 'SB', 'SC', 'FA', 'FB', 'FC']\n",
    "    field_arr = []\n",
    "\n",
    "    ivector = ogr.Open(shapefile, 0)\n",
    "    ilayer = ivector.GetLayer()\n",
    "\n",
    "    odriver = ogr.GetDriverByName('MEMORY')\n",
    "    ovector = odriver.CreateDataSource('memData')\n",
    "    olayer = ovector.CopyLayer(ilayer, 'burn_ice_layer', ['OVERWRITE=YES'])\n",
    "    fidef = ogr.FieldDefn('poly_index', ogr.OFTInteger)\n",
    "    olayer.CreateField(fidef)\n",
    "    for ft in olayer:\n",
    "        ft_id = ft.GetFID() + 1\n",
    "        field_vec = [ft_id] + [float(ft.GetField(field_name)) for field_name in field_names]\n",
    "        field_arr.append(field_vec)\n",
    "        ft.SetField('poly_index', ft_id)\n",
    "        olayer.SetFeature(ft)\n",
    "\n",
    "    gdal.RasterizeLayer(ds, [1], olayer, options=[\"ATTRIBUTE=poly_index\"])\n",
    "    dst_arr = ds.ReadAsArray()\n",
    "    return dst_arr, np.array(field_arr)\n"
   ]
  },
  {
   "cell_type": "code",
   "execution_count": 3,
   "id": "b54390a9",
   "metadata": {},
   "outputs": [],
   "source": [
    "x_ul = -3850000.0\n",
    "nx = 2432\n",
    "dx = 3125.0\n",
    "y_ul = 5850000.0\n",
    "dy = -3125.0\n",
    "ny = 3584\n",
    "srs = '+proj=stere +lat_0=90 +lat_ts=70 +lon_0=-45 +x_0=0 +y_0=0 +a=6378273 +b=6356889.44891059 +units=m +no_defs'\n",
    "\n",
    "shapefile = '/Data/sat/auxdata/ice_charts/NIC/arctic230113/ARCTIC230113.shp'\n",
    "# burn poly_index values onto raster\n",
    "ds = get_gdal_dataset(x_ul, nx, dx, y_ul, ny, dy, srs, gdal.GDT_Int16)\n",
    "polyindex_arr, icecodes = rasterize_icehart(shapefile, ds)\n"
   ]
  },
  {
   "cell_type": "code",
   "execution_count": 4,
   "id": "426e2677",
   "metadata": {},
   "outputs": [
    {
     "data": {
      "text/plain": [
       "<matplotlib.colorbar.Colorbar at 0x7fa329a399c0>"
      ]
     },
     "execution_count": 4,
     "metadata": {},
     "output_type": "execute_result"
    },
    {
     "data": {
      "image/png": "[encoded data removed]",
      "text/plain": [
       "<Figure size 432x288 with 2 Axes>"
      ]
     },
     "metadata": {
      "needs_background": "light"
     },
     "output_type": "display_data"
    }
   ],
   "source": [
    "plt.imshow(polyindex_arr)\n",
    "plt.colorbar()"
   ]
  },
  {
   "cell_type": "code",
   "execution_count": 5,
   "id": "3d1844a0",
   "metadata": {},
   "outputs": [
    {
     "name": "stdout",
     "output_type": "stream",
     "text": [
      "[[ 1.000e+00  0.000e+00  0.000e+00 ... -9.000e+00 -9.000e+00 -9.000e+00]\n",
      " [ 2.000e+00  0.000e+00  0.000e+00 ... -9.000e+00 -9.000e+00 -9.000e+00]\n",
      " [ 3.000e+00  0.000e+00  0.000e+00 ... -9.000e+00 -9.000e+00 -9.000e+00]\n",
      " ...\n",
      " [ 1.580e+03  9.200e+01  9.200e+01 ... -9.000e+00 -9.000e+00 -9.000e+00]\n",
      " [ 1.581e+03  9.200e+01  9.200e+01 ... -9.000e+00 -9.000e+00 -9.000e+00]\n",
      " [ 1.582e+03  9.200e+01  9.200e+01 ... -9.000e+00 -9.000e+00 -9.000e+00]]\n"
     ]
    }
   ],
   "source": [
    "print(icecodes)"
   ]
  },
  {
   "cell_type": "code",
   "execution_count": 7,
   "id": "059a2082",
   "metadata": {},
   "outputs": [
    {
     "name": "stderr",
     "output_type": "stream",
     "text": [
      "/tmp/ipykernel_68449/3302267334.py:6: DeprecationWarning: The truth value of an empty array is ambiguous. Returning False, but in future this will result in an error. Use `array.size > 0` to check that an array is not empty.\n",
      "  if i:\n"
     ]
    }
   ],
   "source": [
    "ct_array = np.zeros(polyindex_arr.shape, float)\n",
    "polyids = np.unique(polyindex_arr)\n",
    "for polyid in polyids:\n",
    "    mask = polyindex_arr == polyid\n",
    "    i = np.where(icecodes[:,0] == polyid)[0]\n",
    "    if i:\n",
    "        ct = icecodes[i,1]\n",
    "        ct_array[mask] = ct"
   ]
  },
  {
   "cell_type": "code",
   "execution_count": 8,
   "id": "7baa22ca",
   "metadata": {},
   "outputs": [
    {
     "data": {
      "text/plain": [
       "<matplotlib.colorbar.Colorbar at 0x7fa3288a0880>"
      ]
     },
     "execution_count": 8,
     "metadata": {},
     "output_type": "execute_result"
    },
    {
     "data": {
      "image/png": "[encoded data removed]",
      "text/plain": [
       "<Figure size 432x288 with 2 Axes>"
      ]
     },
     "metadata": {
      "needs_background": "light"
     },
     "output_type": "display_data"
    }
   ],
   "source": [
    "ct_array[polyindex_arr == 0] = np.nan\n",
    "plt.imshow(ct_array, interpolation='nearest')\n",
    "plt.colorbar()"
   ]
  },
  {
   "cell_type": "code",
   "execution_count": null,
   "id": "5da3e9df",
   "metadata": {},
   "outputs": [],
   "source": [
    "# more SHAPEFILES file here:\n",
    "# https://usicecenter.gov/Products/ArchiveSearch?table=WeeklyArctic&product=Arctic%20Weekly%20Shapefile&linkChange=arc-two\n",
    "!ogrinfo -al -geom=NO /Data/sat/auxdata/ice_charts/NIC/arctic230113/ARCTIC230113.shp\n"
   ]
  },
  {
   "cell_type": "code",
   "execution_count": 48,
   "id": "e454e67a",
   "metadata": {},
   "outputs": [],
   "source": [
    "m1 = np.random.randint(0, 15, (10,15))\n",
    "m2 = np.random.randint(0, 15, (10,15))\n",
    "m3 = np.random.randint(0, 15, (10,15))\n",
    "\n",
    "p1 = np.random.random_sample((10,15))\n",
    "p2 = np.random.random_sample((10,15))\n",
    "p3 = np.random.random_sample((10,15))"
   ]
  },
  {
   "cell_type": "code",
   "execution_count": 49,
   "id": "5ccca2ad",
   "metadata": {},
   "outputs": [],
   "source": [
    "cols, rows = np.meshgrid(range(15), range(10))\n",
    "sum_prob = np.zeros((10,15,4))\n",
    "\n",
    "for p, m in zip([p1, p2, p3], [m1, m2, m3]):\n",
    "    gpi = m < 4\n",
    "    sum_prob[rows[gpi], cols[gpi], m[gpi]] += p[gpi]"
   ]
  },
  {
   "cell_type": "code",
   "execution_count": 50,
   "id": "7f0faa42",
   "metadata": {},
   "outputs": [
    {
     "data": {
      "text/plain": [
       "<matplotlib.colorbar.Colorbar at 0x7fbd23889660>"
      ]
     },
     "execution_count": 50,
     "metadata": {},
     "output_type": "execute_result"
    },
    {
     "data": {
      "image/png": "[encoded data removed]",
      "text/plain": [
       "<Figure size 432x288 with 2 Axes>"
      ]
     },
     "metadata": {
      "needs_background": "light"
     },
     "output_type": "display_data"
    }
   ],
   "source": [
    "max_prob_idx = np.argmax(sum_prob, axis=2)\n",
    "\n",
    "max_prob_idx[sum_prob.sum(axis=2) == 0] = -1\n",
    "\n",
    "plt.imshow(max_prob_idx)\n",
    "plt.colorbar()"
   ]
  },
  {
   "cell_type": "code",
   "execution_count": 30,
   "id": "17eb98f2",
   "metadata": {},
   "outputs": [
    {
     "data": {
      "text/plain": [
       "2"
      ]
     },
     "execution_count": 30,
     "metadata": {},
     "output_type": "execute_result"
    }
   ],
   "source": [
    "m1.max()"
   ]
  },
  {
   "cell_type": "code",
   "execution_count": null,
   "id": "0841edb5",
   "metadata": {},
   "outputs": [],
   "source": []
  }
 ],
 "metadata": {
  "kernelspec": {
   "display_name": "Python 3 (ipykernel)",
   "language": "python",
   "name": "python3"
  },
  "language_info": {
   "codemirror_mode": {
    "name": "ipython",
    "version": 3
   },
   "file_extension": ".py",
   "mimetype": "text/x-python",
   "name": "python",
   "nbconvert_exporter": "python",
   "pygments_lexer": "ipython3",
   "version": "3.10.2"
  }
 },
 "nbformat": 4,
 "nbformat_minor": 5
}
